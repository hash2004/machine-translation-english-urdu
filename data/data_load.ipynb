{
 "cells": [
  {
   "cell_type": "code",
   "execution_count": null,
   "metadata": {},
   "outputs": [
    {
     "name": "stdout",
     "output_type": "stream",
     "text": [
      "Path to dataset files: /Users/hashimmuhammadnadeem/machine-translation-english-urdu/data/1\n"
     ]
    }
   ],
   "source": [
    "import kagglehub\n",
    "import os\n",
    "import shutil\n",
    "\n",
    "downloaded_path = kagglehub.dataset_download(\"zainuddin123/parallel-corpus-for-english-urdu-language\")\n",
    "\n",
    "current_dir = os.getcwd()\n",
    "destination_path = os.path.join(current_dir, os.path.basename(downloaded_path))\n",
    "shutil.move(downloaded_path, destination_path)\n",
    "\n",
    "print(\"Path to dataset files:\", destination_path)"
   ]
  },
  {
   "cell_type": "code",
   "execution_count": 1,
   "metadata": {},
   "outputs": [
    {
     "name": "stdout",
     "output_type": "stream",
     "text": [
      "Downloading from https://www.kaggle.com/api/v1/datasets/download/almightyj/person-face-sketches?dataset_version_number=2...\n"
     ]
    },
    {
     "name": "stderr",
     "output_type": "stream",
     "text": [
      "100%|██████████| 1.29G/1.29G [02:27<00:00, 9.37MB/s]"
     ]
    },
    {
     "name": "stdout",
     "output_type": "stream",
     "text": [
      "Extracting files...\n"
     ]
    },
    {
     "name": "stderr",
     "output_type": "stream",
     "text": [
      "\n"
     ]
    },
    {
     "name": "stdout",
     "output_type": "stream",
     "text": [
      "Path to dataset files: /Users/hashimmuhammadnadeem/machine-translation-english-urdu/data/2\n"
     ]
    }
   ],
   "source": [
    "import kagglehub\n",
    "import os\n",
    "import shutil\n",
    "\n",
    "downloaded_path = kagglehub.dataset_download(\"almightyj/person-face-sketches\")\n",
    "\n",
    "current_dir = os.getcwd()\n",
    "destination_path = os.path.join(current_dir, os.path.basename(downloaded_path))\n",
    "shutil.move(downloaded_path, destination_path)\n",
    "\n",
    "print(\"Path to dataset files:\", destination_path)"
   ]
  }
 ],
 "metadata": {
  "kernelspec": {
   "display_name": "base",
   "language": "python",
   "name": "python3"
  },
  "language_info": {
   "codemirror_mode": {
    "name": "ipython",
    "version": 3
   },
   "file_extension": ".py",
   "mimetype": "text/x-python",
   "name": "python",
   "nbconvert_exporter": "python",
   "pygments_lexer": "ipython3",
   "version": "3.12.4"
  }
 },
 "nbformat": 4,
 "nbformat_minor": 2
}
