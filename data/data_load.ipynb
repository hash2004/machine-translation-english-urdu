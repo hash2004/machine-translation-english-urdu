{
 "cells": [
  {
   "cell_type": "code",
   "execution_count": null,
   "metadata": {},
   "outputs": [
    {
     "name": "stdout",
     "output_type": "stream",
     "text": [
      "Path to dataset files: /Users/hashimmuhammadnadeem/machine-translation-english-urdu/data/1\n"
     ]
    }
   ],
   "source": [
    "import kagglehub\n",
    "import os\n",
    "import shutil\n",
    "\n",
    "downloaded_path = kagglehub.dataset_download(\"zainuddin123/parallel-corpus-for-english-urdu-language\")\n",
    "\n",
    "current_dir = os.getcwd()\n",
    "destination_path = os.path.join(current_dir, os.path.basename(downloaded_path))\n",
    "shutil.move(downloaded_path, destination_path)\n",
    "\n",
    "print(\"Path to dataset files:\", destination_path)"
   ]
  }
 ],
 "metadata": {
  "kernelspec": {
   "display_name": "base",
   "language": "python",
   "name": "python3"
  },
  "language_info": {
   "codemirror_mode": {
    "name": "ipython",
    "version": 3
   },
   "file_extension": ".py",
   "mimetype": "text/x-python",
   "name": "python",
   "nbconvert_exporter": "python",
   "pygments_lexer": "ipython3",
   "version": "3.12.4"
  }
 },
 "nbformat": 4,
 "nbformat_minor": 2
}
